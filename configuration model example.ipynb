{
 "cells": [
  {
   "cell_type": "code",
   "execution_count": 83,
   "metadata": {},
   "outputs": [],
   "source": [
    "import numpy as np\n",
    "import pandas as pd\n",
    "from pyomo.opt import SolverFactory\n",
    "from pyomo.core import Var\n",
    "import pyomo.environ as en"
   ]
  },
  {
   "cell_type": "code",
   "execution_count": 84,
   "metadata": {},
   "outputs": [],
   "source": [
    "# input data\n",
    "# To use this script, the user needs to change the working directory. Or put the data and code in the same folder.\n",
    "testData = pd.read_csv('testdata_final.csv', parse_dates=['timestamp'], index_col='timestamp')"
   ]
  },
  {
   "cell_type": "code",
   "execution_count": 85,
   "metadata": {},
   "outputs": [],
   "source": [
    "# define input data\n",
    "load = testData['actual_consumption'].values\n",
    "sellPrice = testData['price_sell'].values\n",
    "buyPrice = testData['price_buy'].values\n",
    "heat_load = testData['heat_load'].values\n",
    "cool_load = testData['cool_load'].values\n",
    "price_gas1 = testData['gas'].values/1000\n",
    "price_gas = price_gas1*35.3147248277 \n",
    "# The unit of natural gas price is dollars per thousand cubic feet\n",
    "# convert into dollers per cubic meter "
   ]
  },
  {
   "cell_type": "code",
   "execution_count": 86,
   "metadata": {},
   "outputs": [],
   "source": [
    "# refined PV model, namely Case I. (Users can switch between the two cases at will)\n",
    "PV_unit = testData['actual_pv'].fillna(0)\n",
    "PV_unit[PV_unit<0] = 0\n",
    "PV_unit = PV_unit.values/1000    # The pv output unit in the data is W, converted to kW"
   ]
  },
  {
   "cell_type": "code",
   "execution_count": 87,
   "metadata": {},
   "outputs": [],
   "source": [
    "# conventional PV model, namely Case II.\n",
    "# PV_unit = testData['pv_c'].fillna(0).values/1000      "
   ]
  },
  {
   "cell_type": "code",
   "execution_count": 88,
   "metadata": {},
   "outputs": [],
   "source": [
    "priceDict1 = dict(enumerate(sellPrice))\n",
    "priceDict2 = dict(enumerate(buyPrice))\n",
    "priceDict3 = dict(enumerate(price_gas))\n",
    "LoadDict = dict(enumerate(load))\n",
    "PVDict = dict(enumerate(PV_unit))\n",
    "HeatDict = dict(enumerate(heat_load))\n",
    "CoolDict = dict(enumerate(cool_load))"
   ]
  },
  {
   "cell_type": "code",
   "execution_count": 89,
   "metadata": {},
   "outputs": [],
   "source": [
    "# create a concrete model\n",
    "m = en.ConcreteModel()"
   ]
  },
  {
   "cell_type": "code",
   "execution_count": 90,
   "metadata": {},
   "outputs": [],
   "source": [
    "# define time index\n",
    "m.Time = en.RangeSet(0,len(load)-1)"
   ]
  },
  {
   "cell_type": "code",
   "execution_count": 91,
   "metadata": {},
   "outputs": [],
   "source": [
    "# When discussing a Pyomo model, we use the \"Parameters\" to refer to data that must be provided\n",
    "# in order to find an optimal (or good) assignment of values to the decision variables.\n",
    "m.priceSell = en.Param(m.Time, initialize=priceDict1)\n",
    "m.priceBuy = en.Param(m.Time, initialize=priceDict2)\n",
    "m.priceGas = en.Param(m.Time, initialize=priceDict3)\n",
    "m.Load = en.Param(m.Time, initialize=LoadDict)\n",
    "m.PV_unit = en.Param(m.Time, initialize=PVDict)\n",
    "m.Heat = en.Param(m.Time,initialize=HeatDict)\n",
    "m.Cool = en.Param(m.Time,initialize=CoolDict)"
   ]
  },
  {
   "cell_type": "code",
   "execution_count": 92,
   "metadata": {},
   "outputs": [],
   "source": [
    "# Variables are intended to ultimately be given values by an optimization package. \n",
    "# They are declared and optionally bounded, given initial values, and documented using the Pyomo Var function.\n",
    "m.P_buy = en.Var(m.Time, within=en.Reals)\n",
    "m.P_sell = en.Var(m.Time, within=en.Reals)"
   ]
  },
  {
   "cell_type": "code",
   "execution_count": 93,
   "metadata": {},
   "outputs": [],
   "source": [
    "# Define TES parameters\n",
    "m.TSS_Capacity = en.Param(initialize=10)\n",
    "m.TSS_Power = en.Param(initialize=10)\n",
    "m.TSS_Charge_Efficiency = en.Param(initialize=0.95)\n",
    "m.TSS_Discharge_Efficiency = en.Param(initialize=0.95)\n",
    "m.TSS_rate = en.Param(initialize=0.04)"
   ]
  },
  {
   "cell_type": "code",
   "execution_count": 94,
   "metadata": {},
   "outputs": [],
   "source": [
    "# Define heat storage parameters\n",
    "m.Bool_char_TSS = en.Var(m.Time,within=en.Binary)\n",
    "m.Bool_dis_TSS = en.Var(m.Time,within=en.Binary,initialize=0)\n",
    "m.Energy_SOC_TSS = en.Var(m.Time,initialize=0)\n",
    "m.TSS_P_char = en.Var(m.Time,initialize=0)\n",
    "m.TSS_P_dis = en.Var(m.Time,initialize=0)\n",
    "m.n_TSS = en.Var([1],within=en.NonNegativeIntegers)"
   ]
  },
  {
   "cell_type": "code",
   "execution_count": 95,
   "metadata": {},
   "outputs": [],
   "source": [
    "# the Big M method is a method of solving linear programming problems using the simplex algorithm. \n",
    "bigM = 10000000\n",
    "m.z1_TSS = en.Var(m.Time)\n",
    "m.z2_TSS = en.Var(m.Time)"
   ]
  },
  {
   "cell_type": "code",
   "execution_count": 96,
   "metadata": {},
   "outputs": [],
   "source": [
    "# Introduce auxiliary variable 1\n",
    "def Bool_char_TSS_rule_1(m,i):\n",
    "    return m.z1_TSS[i] <= bigM*m.Bool_char_TSS[i]\n",
    "m.TSS_char_cons1 = en.Constraint(m.Time, rule=Bool_char_TSS_rule_1)\n",
    "\n",
    "def Bool_char_TSS_rule_2(m,i):\n",
    "    return -bigM*m.Bool_char_TSS[i] <= m.z1_TSS[i]\n",
    "m.TSS_char_cons2 = en.Constraint(m.Time, rule=Bool_char_TSS_rule_2)\n",
    "\n",
    "def Bool_char_TSS_rule_3(m,i):\n",
    "    return m.z1_TSS[i]-m.n_TSS[1] <= bigM*(1-m.Bool_char_TSS[i])\n",
    "m.TSS_char_cons3 = en.Constraint(m.Time, rule=Bool_char_TSS_rule_3)\n",
    "\n",
    "def Bool_char_TSS_rule_4(m,i):\n",
    "    return -bigM*(1-m.Bool_char_TSS[i]) <= m.z1_TSS[1]-m.n_TSS[1]\n",
    "m.TSS_char_cons4 = en.Constraint(m.Time, rule=Bool_char_TSS_rule_4)"
   ]
  },
  {
   "cell_type": "code",
   "execution_count": 97,
   "metadata": {},
   "outputs": [],
   "source": [
    "# Introduce auxiliary variable 1\n",
    "def Bool_dis_TSS_rule_1(m,i):\n",
    "    return m.z2_TSS[i] <= bigM*m.Bool_dis_TSS[i]\n",
    "m.TSS_dis_cons1 = en.Constraint(m.Time,rule=Bool_dis_TSS_rule_1)\n",
    "\n",
    "def Bool_dis_TSS_rule_2(m,i):\n",
    "    return -bigM*m.Bool_dis_TSS[i] <= m.z2_TSS[i]\n",
    "m.TSS_dis_cons2 = en.Constraint(m.Time,rule=Bool_dis_TSS_rule_2)\n",
    "\n",
    "def Bool_dis_TSS_rule_3(m,i):\n",
    "    return m.z2_TSS[i]-m.n_TSS[1] <= bigM*(1-m.Bool_dis_TSS[i])\n",
    "m.TSS_dis_cons3 = en.Constraint(m.Time,rule=Bool_dis_TSS_rule_3)\n",
    "\n",
    "def Bool_dis_TSS_rule_4(m,i):\n",
    "    return -bigM*(1-m.Bool_dis_TSS[i]) <= m.z2_TSS[i]-m.n_TSS[1]\n",
    "m.TSS_dis_cons4 = en.Constraint(m.Time,rule=Bool_dis_TSS_rule_4)"
   ]
  },
  {
   "cell_type": "code",
   "execution_count": 98,
   "metadata": {},
   "outputs": [],
   "source": [
    "# The thermal energy storage power cannot exceed the upper and lower limits\n",
    "# Nonlinear transformation： m.z2_ESS = m.Bool_char_TSS * m.n_TSS\n",
    "m.ChargingLimit = en.Param(initialize=m.TSS_Power)\n",
    "\n",
    "def TSS_char_power_rule_1(m,i):\n",
    "    return m.TSS_P_char[i] <= m.z1_TSS[i]*m.ChargingLimit\n",
    "m.TSS_char_power_cons1 = en.Constraint(m.Time,rule=TSS_char_power_rule_1)\n",
    "\n",
    "def TSS_char_power_rule_2(m,i):\n",
    "    return 0 <= m.TSS_P_char[i]\n",
    "m.TSS_char_power_cons2 = en.Constraint(m.Time,rule=TSS_char_power_rule_2)"
   ]
  },
  {
   "cell_type": "code",
   "execution_count": 99,
   "metadata": {},
   "outputs": [],
   "source": [
    "# The heating power of thermal storage cannot exceed the upper and lower limits\n",
    "# Nonlinear transformation： m.z2_TSS = m.Bool_dis_TSS * m.n_TSS\n",
    "m.DischargingLimit = en.Param(initialize=m.TSS_Power)\n",
    "\n",
    "def TSS_dis_power_rule_1(m,i):\n",
    "    return m.TSS_P_dis[i] <= m.z2_TSS[i]*m.DischargingLimit\n",
    "m.TSS_dis_power_cons1 = en.Constraint(m.Time, rule=TSS_dis_power_rule_1)\n",
    "\n",
    "def TSS_dis_power_rule_2(m,i):\n",
    "    return 0 <= m.TSS_P_dis[i]\n",
    "m.TSS_dis_power_cons2 = en.Constraint(m.Time,rule=TSS_dis_power_rule_2)"
   ]
  },
  {
   "cell_type": "code",
   "execution_count": 100,
   "metadata": {},
   "outputs": [],
   "source": [
    "# TES is not allowed to store and release energy at the same time\n",
    "def TSS_char_dis(m,i):\n",
    "    return m.Bool_char_TSS[i]+m.Bool_dis_TSS[i] <= 1\n",
    "m.TSS_char_dis_cons = en.Constraint(m.Time,rule=TSS_char_dis)"
   ]
  },
  {
   "cell_type": "code",
   "execution_count": 101,
   "metadata": {},
   "outputs": [],
   "source": [
    "# Heat storage energy\n",
    "def Energy_SOC_TSS_rule(m,t):\n",
    "    if t==0:\n",
    "        return m.Energy_SOC_TSS[t] == 0.2*m.TSS_Capacity*m.n_TSS[1]\n",
    "    else:\n",
    "        return m.Energy_SOC_TSS[t] == m.Energy_SOC_TSS[t-1]*(1-m.TSS_rate)+m.TSS_Charge_Efficiency*m.TSS_P_char[t]-m.TSS_P_dis[t]/m.TSS_Discharge_Efficiency                    \n",
    "m.TSS_Energy_SOC_cons = en.Constraint(m.Time,rule=Energy_SOC_TSS_rule)\n",
    "\n",
    "def Energy_TSS_rule_1(m,t):\n",
    "    return m.Energy_SOC_TSS[t] <= 0.9*m.TSS_Capacity*m.n_TSS[1]\n",
    "m.TSS_Energy_cons1 = en.Constraint(m.Time,rule=Energy_TSS_rule_1)\n",
    "\n",
    "def Energy_TSS_rule_2(m,t):\n",
    "    return 0.2*m.TSS_Capacity*m.n_TSS[1] <= m.Energy_SOC_TSS[t]\n",
    "m.TSS_Energy_cons2 = en.Constraint(m.Time,rule=Energy_TSS_rule_2)"
   ]
  },
  {
   "cell_type": "code",
   "execution_count": 102,
   "metadata": {},
   "outputs": [],
   "source": [
    "# Number of heat storage installations\n",
    "def TSS_num_rule(m):\n",
    "    return m.n_TSS[1] <= 50000\n",
    "m.TSS_num_cons = en.Constraint(m.Time,rule=TSS_num_rule)"
   ]
  },
  {
   "cell_type": "code",
   "execution_count": 103,
   "metadata": {},
   "outputs": [],
   "source": [
    "# Define energy storage battery parameters\n",
    "m.Batt_Capacity = en.Param(initialize=1)\n",
    "m.Batt_Power = en.Param(initialize=0.075)\n",
    "m.Batt_Charge_Efficiency = en.Param(initialize=0.95)\n",
    "m.Batt_Discharge_Efficiency = en.Param(initialize=0.95)\n",
    "m.Batt_rate = en.Param(initialize=0.04)"
   ]
  },
  {
   "cell_type": "code",
   "execution_count": 104,
   "metadata": {},
   "outputs": [],
   "source": [
    "# Define energy storage battery parameters\n",
    "m.Bool_char = en.Var(m.Time,within=en.Binary)\n",
    "m.Bool_dis = en.Var(m.Time,within=en.Binary,initialize=0)\n",
    "m.Energy_SOC = en.Var(m.Time,initialize=0)\n",
    "m.Batt_P_char = en.Var(m.Time,initialize=0)\n",
    "m.Batt_P_dis = en.Var(m.Time,initialize=0)\n",
    "\n",
    "m.n_ESS = en.Var([1],within=en.NonNegativeIntegers)"
   ]
  },
  {
   "cell_type": "code",
   "execution_count": 105,
   "metadata": {},
   "outputs": [],
   "source": [
    "# bigM \n",
    "bigM = 10000000\n",
    "m.z1_Batt = en.Var(m.Time)\n",
    "m.z2_Batt = en.Var(m.Time)"
   ]
  },
  {
   "cell_type": "code",
   "execution_count": 106,
   "metadata": {},
   "outputs": [],
   "source": [
    "# Introduce auxiliary variable 1\n",
    "def Bool_char_rule_1(m,i):\n",
    "    return( m.z1_Batt[i] <= bigM*m.Bool_char[i] )\n",
    "m.Batt_char1 = en.Constraint(m.Time,rule=Bool_char_rule_1)\n",
    "\n",
    "def Bool_char_rule_2(m,i):\n",
    "    return( -bigM*m.Bool_char[i] <= m.z1_Batt[i] )\n",
    "m.Batt_char2 = en.Constraint(m.Time,rule=Bool_char_rule_2)\n",
    "\n",
    "def Bool_char_rule_3(m,i):\n",
    "    return( m.z1_Batt[i]-m.n_ESS[1] <= bigM*(1-m.Bool_char[i]) )\n",
    "m.Batt_char3 = en.Constraint(m.Time,rule=Bool_char_rule_3)\n",
    "\n",
    "def Bool_char_rule_4(m,i):\n",
    "    return( -bigM*(1-m.Bool_char[i]) <= m.z1_Batt[i]-m.n_ESS[1] )\n",
    "m.Batt_char4 = en.Constraint(m.Time, rule=Bool_char_rule_4)"
   ]
  },
  {
   "cell_type": "code",
   "execution_count": 107,
   "metadata": {},
   "outputs": [],
   "source": [
    "# Introduce auxiliary variable 2\n",
    "def Bool_dis_rule_1(m,i):\n",
    "    return( m.z2_Batt[i] <= bigM*m.Bool_dis[i] )\n",
    "m.Batt_dis1 = en.Constraint(m.Time,rule=Bool_dis_rule_1)\n",
    "\n",
    "def Bool_dis_rule_2(m,i):\n",
    "    return( -bigM*m.Bool_dis[i] <= m.z2_Batt[i] )\n",
    "m.Batt_dis2 = en.Constraint(m.Time,rule=Bool_dis_rule_2)\n",
    "\n",
    "def Bool_dis_rule_3(m,i):\n",
    "    return( m.z2_Batt[i]-m.n_ESS[1] <= bigM*(1-m.Bool_dis[i]) )\n",
    "m.Batt_dis3 = en.Constraint(m.Time,rule=Bool_dis_rule_3)\n",
    "\n",
    "def Bool_dis_rule_4(m,i):\n",
    "    return( -bigM*(1-m.Bool_dis[i]) <= m.z2_Batt[i]-m.n_ESS[1] )\n",
    "m.Batt_dis4 = en.Constraint(m.Time,rule=Bool_dis_rule_4)"
   ]
  },
  {
   "cell_type": "code",
   "execution_count": 108,
   "metadata": {},
   "outputs": [],
   "source": [
    "# The charging power of the electric storage cannot exceed the upper and lower limits\n",
    "# Nonlinear transformation： m.z1_ESS = m.Bool_char * m.n_ESS\n",
    "m.ChargingLimit_Batt = en.Param(initialize=m.Batt_Power)\n",
    "\n",
    "def Batt_char_power_rule_1(m,i):\n",
    "    return( m.Batt_P_char[i] <= m.z1_Batt[i]*m.ChargingLimit_Batt )\n",
    "m.Batt_char_power1 = en.Constraint(m.Time,rule=Batt_char_power_rule_1)\n",
    "\n",
    "def Batt_char_power_rule_2(m,i):\n",
    "    return( 0 <= m.Batt_P_char[i] )\n",
    "m.Batt_char_power2 = en.Constraint(m.Time, rule=Batt_char_power_rule_2)"
   ]
  },
  {
   "cell_type": "code",
   "execution_count": 109,
   "metadata": {},
   "outputs": [],
   "source": [
    "# The discharge power of the electric energy storage cannot exceed the upper and lower limits，\n",
    "# Nonlinear transformation： m.z2_ESS = m.Bool_dis * m.n_ESS\n",
    "m.DischargingLimit_Batt = en.Param(initialize=m.Batt_Power)\n",
    "\n",
    "def Batt_dis_power_rule_1(m,i):\n",
    "    return( m.Batt_P_dis[i] <= m.z2_Batt[i]*m.DischargingLimit_Batt )\n",
    "m.Batt_dis_power1 = en.Constraint(m.Time,rule=Batt_dis_power_rule_1)\n",
    "\n",
    "def Batt_dis_power_rule_2(m,i):\n",
    "    return( 0 <= m.Batt_P_dis[i] )\n",
    "m.Batt_dis_power2 = en.Constraint(m.Time, rule=Batt_dis_power_rule_2)"
   ]
  },
  {
   "cell_type": "code",
   "execution_count": 110,
   "metadata": {},
   "outputs": [],
   "source": [
    "# EES is not allowed to store and release energy at the same time\n",
    "def Batt_char_dis(m,i):\n",
    "    return (m.Bool_char[i]+m.Bool_dis[i] <= 1)\n",
    "m.Batt_char_dis=en.Constraint(m.Time,rule=Batt_char_dis)"
   ]
  },
  {
   "cell_type": "code",
   "execution_count": 111,
   "metadata": {},
   "outputs": [],
   "source": [
    "# Energy of EES\n",
    "def Energy_SOC_rule(m,t):\n",
    "    if t==0:\n",
    "        return ( m.Energy_SOC[t] == 0.2*m.Batt_Capacity*m.n_ESS[1] )\n",
    "    else:\n",
    "        return ( m.Energy_SOC[t] == m.Energy_SOC[t-1]*(1-m.Batt_rate)+m.Batt_Charge_Efficiency*m.Batt_P_char[t]-m.Batt_P_dis[t]/m.Batt_Discharge_Efficiency )\n",
    "m.Batt_Energy_SOC = en.Constraint(m.Time,rule=Energy_SOC_rule)    \n",
    "\n",
    "def Energy_ESS_rule_1(m,t):\n",
    "    return( m.Energy_SOC[t] <= 0.9*m.Batt_Capacity*m.n_ESS[1] )\n",
    "m.Batt_Energy_ESS1 = en.Constraint(m.Time,rule=Energy_ESS_rule_1)\n",
    "\n",
    "def Energy_ESS_rule_2(m,t):\n",
    "    return( 0.2*m.Batt_Capacity*m.n_ESS[1] <= m.Energy_SOC[t] )\n",
    "m.Batt_Energy_ESS2 = en.Constraint(m.Time,rule=Energy_ESS_rule_2)"
   ]
  },
  {
   "cell_type": "code",
   "execution_count": 112,
   "metadata": {},
   "outputs": [],
   "source": [
    "# Number of electric energy storage installations\n",
    "# The number of installations cannot exceed the upper limit\n",
    "def ESS_num_rule(m):\n",
    "    return m.n_ESS[1] <= 500000\n",
    "m.ESS_num_cons = en.Constraint(m.Time, rule=ESS_num_rule)"
   ]
  },
  {
   "cell_type": "code",
   "execution_count": 113,
   "metadata": {},
   "outputs": [],
   "source": [
    "# electrical chillers\n",
    "m.n_EC = en.Var([1],within=en.NonNegativeIntegers)\n",
    "m.P_EC = en.Var(m.Time,within=en.Reals)\n",
    "m.Q_EC = en.Var(m.Time,within=en.Reals)\n",
    "m.EC_COP = en.Param(initialize=4)\n",
    "m.P_EC_Max = en.Param(initialize=200)"
   ]
  },
  {
   "cell_type": "code",
   "execution_count": 114,
   "metadata": {},
   "outputs": [],
   "source": [
    "# Number of electric chillers installed\n",
    "# The number of installations cannot exceed the upper limit\n",
    "def EC_num_rule(m):\n",
    "    return m.n_EC[1] <= 10000\n",
    "m.EC_num_cons = en.Constraint(rule=EC_num_rule)"
   ]
  },
  {
   "cell_type": "code",
   "execution_count": 115,
   "metadata": {},
   "outputs": [],
   "source": [
    "# Output constraint of electric chiller\n",
    "def P_EC_rule1(m,i):\n",
    "    return m.P_EC[i] <= m.P_EC_Max*m.n_EC[1]\n",
    "m.P_EC_cons1 = en.Constraint(m.Time,rule=P_EC_rule1)"
   ]
  },
  {
   "cell_type": "code",
   "execution_count": 116,
   "metadata": {},
   "outputs": [],
   "source": [
    "# Output constraint of electric chiller\n",
    "def P_EC_rule2(m,i):\n",
    "    return 0 <= m.P_EC[i]\n",
    "m.P_EC_cons2 = en.Constraint(m.Time,rule=P_EC_rule2)"
   ]
  },
  {
   "cell_type": "code",
   "execution_count": 117,
   "metadata": {},
   "outputs": [],
   "source": [
    "# Electrical chiller is converted to cold energy\n",
    "def EC_Ele_to_cool_rule(m,i):\n",
    "    return m.Q_EC[i] == m.P_EC[i]*m.EC_COP\n",
    "m.EC_ELE_TO_COOL_cons = en.Constraint(m.Time,rule=EC_Ele_to_cool_rule)"
   ]
  },
  {
   "cell_type": "code",
   "execution_count": 118,
   "metadata": {},
   "outputs": [],
   "source": [
    "# Gas turbine\n",
    "m.n_GT = en.Var([1],within=en.NonNegativeIntegers)\n",
    "m.P_GT = en.Var(m.Time,within=en.Reals)\n",
    "m.GT_Max = en.Param(initialize=400)\n",
    "m.GT_to_Electricity_Efficient = en.Param(initialize=0.3657)"
   ]
  },
  {
   "cell_type": "code",
   "execution_count": 119,
   "metadata": {},
   "outputs": [],
   "source": [
    "# Calorific value of natural gas\n",
    "m.H_gas = en.Param(initialize=9.97)\n",
    "# Gas turbine consumption\n",
    "m.Vgas_GT = en.Var(m.Time,within=en.Reals)"
   ]
  },
  {
   "cell_type": "code",
   "execution_count": 120,
   "metadata": {},
   "outputs": [],
   "source": [
    "# CHP parameters\n",
    "m.n_CHP = en.Var([1],within=en.NonNegativeIntegers)\n",
    "m.P_CHP = en.Var(m.Time,within=en.Reals)\n",
    "m.Q_CHP = en.Var(m.Time,within=en.Reals)\n",
    "m.CHP_to_Electricity_Efficiency = en.Param(initialize=0.3)\n",
    "m.CHP_to_Heat_Efficiency = en.Param(initialize=0.45)\n",
    "m.P_CHP_Max = en.Param(initialize=300)\n",
    "m.Q_CHP_Max = en.Param(initialize=450)\n",
    "m.Vgas_CHP = en.Var(m.Time,within=en.Reals)\n",
    "m.Vgas_CHP_Q = en.Var(m.Time,within=en.Reals)"
   ]
  },
  {
   "cell_type": "code",
   "execution_count": 121,
   "metadata": {},
   "outputs": [],
   "source": [
    "# AC paramters\n",
    "m.n_AC = en.Var([1],within=en.NonNegativeIntegers)\n",
    "m.Q_AC = en.Var(m.Time,within=en.Reals)\n",
    "m.Vgas_AC = en.Var(m.Time,within=en.Reals)\n",
    "m.AC_COP = en.Param(initialize=1.3)\n",
    "m.Q_AC_Max = en.Param(initialize=100)"
   ]
  },
  {
   "cell_type": "code",
   "execution_count": 122,
   "metadata": {},
   "outputs": [],
   "source": [
    "# Number of AC\n",
    "# The number of installations cannot exceed the upper limit\n",
    "# Since AC absorbs the waste heat of CHP unit, when CHP unit is 0, m.n_AC[1] = 0.\n",
    "\n",
    "def AC_num_rule(m,i):\n",
    "    return m.n_AC[1] <= 100\n",
    "m.AC_num_cons = en.Constraint(rule=AC_num_rule)"
   ]
  },
  {
   "cell_type": "code",
   "execution_count": 123,
   "metadata": {},
   "outputs": [],
   "source": [
    "# AC absorbs the residual heat of CHP\n",
    "def AC_gas_rule(m,i):\n",
    "    return m.Vgas_CHP[i] == m.Vgas_CHP_Q[i] + m.Vgas_AC[i]\n",
    "m.AC_gas_cons = en.Constraint(m.Time,rule=AC_gas_rule)"
   ]
  },
  {
   "cell_type": "code",
   "execution_count": 124,
   "metadata": {},
   "outputs": [],
   "source": [
    "# AC model\n",
    "def AC_heat_to_cool_rule(m,i):\n",
    "    return m.Q_AC[i] == m.AC_COP*m.H_gas*m.Vgas_AC[i]\n",
    "m.AC_heat_to_cool_cons = en.Constraint(m.Time,rule=AC_heat_to_cool_rule)"
   ]
  },
  {
   "cell_type": "code",
   "execution_count": 125,
   "metadata": {},
   "outputs": [],
   "source": [
    "# AC output constraint\n",
    "def AC_rate_rule1(m,i):\n",
    "    return m.Q_AC[i] <= m.Q_AC_Max*m.n_AC[1]\n",
    "m.AC_rate_cons1 = en.Constraint(m.Time,rule=AC_rate_rule1)"
   ]
  },
  {
   "cell_type": "code",
   "execution_count": 126,
   "metadata": {},
   "outputs": [],
   "source": [
    "# AC output constraint\n",
    "def AC_rate_rule2(m,i):\n",
    "    return 0 <= m.Q_AC[i]\n",
    "m.AC_rate_cons2 = en.Constraint(m.Time,rule=AC_rate_rule2)"
   ]
  },
  {
   "cell_type": "code",
   "execution_count": 127,
   "metadata": {},
   "outputs": [],
   "source": [
    "# define PV deployment number\n",
    "m.n_PV = en.Var([1],within=en.NonNegativeIntegers)"
   ]
  },
  {
   "cell_type": "code",
   "execution_count": 128,
   "metadata": {},
   "outputs": [],
   "source": [
    "# define PV output power\n",
    "m.P_PV = en.Var(m.Time, within=en.Reals)"
   ]
  },
  {
   "cell_type": "code",
   "execution_count": 129,
   "metadata": {},
   "outputs": [],
   "source": [
    "# Number of photovoltaic installations\n",
    "# The number of installations cannot exceed the upper limit\n",
    "def PV_num_rule(m):\n",
    "    return m.n_PV[1] <= 200000\n",
    "m.PV_num_cons = en.Constraint(m.Time, rule=PV_num_rule)"
   ]
  },
  {
   "cell_type": "code",
   "execution_count": 130,
   "metadata": {},
   "outputs": [],
   "source": [
    "# Number of gas turbine installations\n",
    "# The number of installations cannot exceed the upper limit\n",
    "def GT_num_rule(m):\n",
    "    return m.n_GT[1] <= 40\n",
    "m.GT_num_cons = en.Constraint(rule=GT_num_rule)"
   ]
  },
  {
   "cell_type": "code",
   "execution_count": 131,
   "metadata": {},
   "outputs": [],
   "source": [
    "# Number of CHP installations\n",
    "# The number of installations cannot exceed the upper limit\n",
    "def CHP_num_rule(m):\n",
    "    return m.n_CHP[1] <= 40\n",
    "m.CHP_num_cons = en.Constraint(rule=CHP_num_rule)"
   ]
  },
  {
   "cell_type": "code",
   "execution_count": 132,
   "metadata": {},
   "outputs": [],
   "source": [
    "# If the reader wants to reproduce the experimental results of Table 7 and Table 8 in Section 5.2.\n",
    "# the number of installations of CHP can be changed in this constraint\n",
    "# If no CHP unit is installed, m.n_CHP[1] == 0.\n",
    "# If only one CHP unit is installed, m.n_CHP[1] == 1.\n",
    "# If only two CHP unit is installed, m.n_CHP[1] == 2.\n",
    "# (Users can switch between the two cases at will)\n",
    "\n",
    "# def CHP_num_rule(m):\n",
    "#     return m.n_CHP[1] == 0\n",
    "# m.CHP_num_cons = en.Constraint(rule=CHP_num_rule)"
   ]
  },
  {
   "cell_type": "code",
   "execution_count": 133,
   "metadata": {},
   "outputs": [],
   "source": [
    "# CHP power output  \n",
    "def CHP_electricity_rule(m,i):\n",
    "    return m.P_CHP[i] == m.CHP_to_Electricity_Efficiency*m.Vgas_CHP[i]*m.H_gas\n",
    "m.CHP_ele_cons = en.Constraint(m.Time,rule=CHP_electricity_rule)"
   ]
  },
  {
   "cell_type": "code",
   "execution_count": 134,
   "metadata": {},
   "outputs": [],
   "source": [
    "# CHP heating output  \n",
    "def CHP_heat_rule(m,i):\n",
    "    return m.Q_CHP[i] == m.CHP_to_Heat_Efficiency*m.Vgas_CHP_Q[i]*m.H_gas\n",
    "m.CHP_heat_cons = en.Constraint(m.Time,rule=CHP_heat_rule)"
   ]
  },
  {
   "cell_type": "code",
   "execution_count": 135,
   "metadata": {},
   "outputs": [],
   "source": [
    "# CHP power constraints\n",
    "def P_CHP_rule(m,i):\n",
    "    return m.P_CHP[i] <= m.P_CHP_Max*m.n_CHP[1]\n",
    "m.P_CHP_cons = en.Constraint(m.Time,rule=P_CHP_rule)"
   ]
  },
  {
   "cell_type": "code",
   "execution_count": 136,
   "metadata": {},
   "outputs": [],
   "source": [
    "# CHP power constraints\n",
    "def P_CHP_rule2(m,i):\n",
    "    return 0 <= m.P_CHP[i]\n",
    "m.P_CHP_cons2 = en.Constraint(m.Time,rule=P_CHP_rule2)"
   ]
  },
  {
   "cell_type": "code",
   "execution_count": 137,
   "metadata": {},
   "outputs": [],
   "source": [
    "# CHP heating power constraints\n",
    "def Q_CHP_rule(m,i):\n",
    "    return m.Q_CHP[i] <= m.Q_CHP_Max*m.n_CHP[1]\n",
    "m.Q_CHP_cons = en.Constraint(m.Time,rule=Q_CHP_rule)"
   ]
  },
  {
   "cell_type": "code",
   "execution_count": 138,
   "metadata": {},
   "outputs": [],
   "source": [
    "# CHP heating power constraints\n",
    "def Q_CHP_rule2(m,i):\n",
    "    return 0 <= m.Q_CHP[i]\n",
    "m.Q_CHP_cons2 = en.Constraint(m.Time,rule=Q_CHP_rule2)"
   ]
  },
  {
   "cell_type": "code",
   "execution_count": 139,
   "metadata": {},
   "outputs": [],
   "source": [
    "# GT model\n",
    "def GT_define_rule(m,i):\n",
    "    return m.Vgas_GT[i]*m.H_gas*m.GT_to_Electricity_Efficient == m.P_GT[i]\n",
    "m.GT_define_cons = en.Constraint(m.Time,rule=GT_define_rule)"
   ]
  },
  {
   "cell_type": "code",
   "execution_count": 140,
   "metadata": {},
   "outputs": [],
   "source": [
    "# Gas turbine power rating\n",
    "def GT_rate_rule(m,i):\n",
    "    return m.P_GT[i] <= m.n_GT[1]*m.GT_Max\n",
    "m.GT_rate_cons = en.Constraint(m.Time,rule=GT_rate_rule)"
   ]
  },
  {
   "cell_type": "code",
   "execution_count": 141,
   "metadata": {},
   "outputs": [],
   "source": [
    "# Gas turbine power rating\n",
    "def GT_rate_rule2(m,i):\n",
    "    return 0 <= m.P_GT[i]\n",
    "m.GT_rate2_cons = en.Constraint(m.Time,rule=GT_rate_rule2)"
   ]
  },
  {
   "cell_type": "code",
   "execution_count": 142,
   "metadata": {},
   "outputs": [],
   "source": [
    "# electricity purchase\n",
    "def P_buy_rule2(m,i):\n",
    "    return 0 <= m.P_buy[i]\n",
    "m.P_buy_cons2 = en.Constraint(m.Time, rule=P_buy_rule2)"
   ]
  },
  {
   "cell_type": "code",
   "execution_count": 143,
   "metadata": {},
   "outputs": [],
   "source": [
    "# Electricity trading constraints (sell) maximum\n",
    "def P_sell_rule1(m,i):\n",
    "   # return m.P_sell[i] <= m.PV_unit[i] * m.n_PV[1]\n",
    "    return m.P_sell[i] <= 500\n",
    "m.P_sell_cons1 = en.Constraint(m.Time, rule=P_sell_rule1)"
   ]
  },
  {
   "cell_type": "code",
   "execution_count": 144,
   "metadata": {},
   "outputs": [],
   "source": [
    "# Electricity trading constraints (sell)  minimum\n",
    "def P_sell_rule2(m,i):\n",
    "    return 0 <= m.P_sell[i]\n",
    "m.P_sell_cons2 = en.Constraint(m.Time, rule=P_sell_rule2)"
   ]
  },
  {
   "cell_type": "code",
   "execution_count": 145,
   "metadata": {},
   "outputs": [],
   "source": [
    "# PV power\n",
    "def P_PV_rule1(m,i):\n",
    "    return m.P_PV[i] == m.PV_unit[i] * m.n_PV[1]\n",
    "m.P_PV_cons1 = en.Constraint(m.Time, rule=P_PV_rule1)"
   ]
  },
  {
   "cell_type": "code",
   "execution_count": 146,
   "metadata": {},
   "outputs": [],
   "source": [
    "# PV output constrains minimum \n",
    "def P_PV_rule2(m,i):\n",
    "    return 0 <= m.P_PV[i]\n",
    "m.P_PV_cons2 = en.Constraint(m.Time, rule=P_PV_rule2)"
   ]
  },
  {
   "cell_type": "code",
   "execution_count": 147,
   "metadata": {},
   "outputs": [],
   "source": [
    "# HP parameters\n",
    "m.P_HP = en.Var(m.Time, within=en.Reals)\n",
    "m.n_HP = en.Var([1],within=en.NonNegativeIntegers)\n",
    "m.HP_COP = en.Param(initialize=2)\n",
    "m.P_HP_Max = en.Param(initialize=400)"
   ]
  },
  {
   "cell_type": "code",
   "execution_count": 148,
   "metadata": {},
   "outputs": [],
   "source": [
    "# heat pump power constraints maximum\n",
    "def P_HP_rule1(m,i):\n",
    "    return( m.P_HP[i] <= m.n_HP[1]*400 )\n",
    "m.P_HP_cons1 = en.Constraint(m.Time, rule=P_HP_rule1)"
   ]
  },
  {
   "cell_type": "code",
   "execution_count": 149,
   "metadata": {},
   "outputs": [],
   "source": [
    "# heat pump power constraints minimax\n",
    "def P_HP_rule2(m,i):\n",
    "    return( 0 <= m.P_HP[i] )\n",
    "m.P_HP_cons2 = en.Constraint(m.Time, rule=P_HP_rule2)"
   ]
  },
  {
   "cell_type": "code",
   "execution_count": 150,
   "metadata": {},
   "outputs": [],
   "source": [
    "# heat pump investment constraint\n",
    "def num_HP_rule(m,i):\n",
    "    return( m.n_HP[1] <= 30000 )\n",
    "m.num_HP_cons = en.Constraint(rule=num_HP_rule)"
   ]
  },
  {
   "cell_type": "code",
   "execution_count": 151,
   "metadata": {},
   "outputs": [],
   "source": [
    "# electricity trading constraint\n",
    "def P_buy_rule1(m,i):\n",
    "    return m.P_buy[i] <= 500\n",
    "m.P_buy_cons1 = en.Constraint(m.Time, rule=P_buy_rule1)"
   ]
  },
  {
   "cell_type": "code",
   "execution_count": 152,
   "metadata": {},
   "outputs": [],
   "source": [
    "# heating balance\n",
    "def H_balance_rule(m,i):\n",
    "    return( m.P_HP[i]*2 + m.Q_CHP[i] + m.TSS_P_dis[i] == m.Heat[i] + m.TSS_P_char[i] )\n",
    "m.H_balance_cons = en.Constraint(m.Time,rule=H_balance_rule)"
   ]
  },
  {
   "cell_type": "code",
   "execution_count": 153,
   "metadata": {},
   "outputs": [],
   "source": [
    "# electric energy balance\n",
    "def E_balance_rule(m,i):\n",
    "    return m.Load[i] + m.P_sell[i] + m.P_HP[i] + m.P_EC[i] + m.Batt_P_char[i] == m.P_PV[i] + m.P_buy[i] + m.P_GT[i] + m.P_CHP[i] + m.Batt_P_dis[i]    \n",
    "m.E_balance_cons = en.Constraint(m.Time, rule=E_balance_rule)"
   ]
  },
  {
   "cell_type": "code",
   "execution_count": 154,
   "metadata": {},
   "outputs": [],
   "source": [
    "# cooling balance\n",
    "def C_balance_rule(m,i):\n",
    "    return m.Q_EC[i] + m.Q_AC[i] == m.Cool[i]\n",
    "m.C_balance_cons = en.Constraint(m.Time,rule=C_balance_rule)"
   ]
  },
  {
   "cell_type": "code",
   "execution_count": 155,
   "metadata": {},
   "outputs": [],
   "source": [
    "# discount rate\n",
    "r = 0.08\n",
    "# service year is 25\n",
    "R25 = (r*((1+r)**25))/( ((1+r)**25) - 1 ) \n",
    "# service year is 20\n",
    "R20 = (r*((1+r)**20))/( ((1+r)**20) - 1 ) \n",
    "# service year is 10\n",
    "R10 = (r*((1+r)**10))/( ((1+r)**10) - 1 ) "
   ]
  },
  {
   "cell_type": "code",
   "execution_count": 156,
   "metadata": {},
   "outputs": [],
   "source": [
    "# objective function\n",
    "# This objective function is the case where the carbon emission penalty multiplier is 1.\n",
    "# If readers want to reproduce the experimental results of Table 9 and Table 10 in Section 5.3, \n",
    "# they can change the multiplier values by themselves.\n",
    "# The alternative values of multipliers are 1, 10, 20, 50, and 100.\n",
    "# multiplier = 10\n",
    "# multiplier = 20\n",
    "# multiplier = 50\n",
    "# multiplier = 100\n",
    "multiplier = 1\n",
    "def Obj_fn(m):\n",
    "    return ( sum( (m.priceBuy[i]*m.P_buy[i]) - (m.priceSell[i]*m.P_sell[i]) + (multiplier*5*0.00089*m.P_buy[i]) + (multiplier*5*0.0001862*m.H_gas*(m.Vgas_GT[i]+m.Vgas_CHP[i])) + (m.priceGas[i]*(m.Vgas_GT[i]+m.Vgas_CHP[i])) for i in m.Time ) + R25*(198)*m.n_PV[1] + R25*70572*m.n_HP[1] + R25*203808*m.n_GT[1] + R25*505766*m.n_CHP[1] + R25*36438*m.n_EC[1] + R25*27483*m.n_AC[1] + R10*444*m.n_ESS[1] + R20*1400*m.n_TSS[1] + 0.03*198*m.n_PV[1] + 0.03*70572*m.n_HP[1] + 0.03*203808*m.n_GT[1] + 0.03*505766*m.n_CHP[1] + 0.03*36438*m.n_EC[1] + 0.03*27483*m.n_AC[1] + 0.03*444*m.n_ESS[1] + 0.03*1400*m.n_TSS[1] )                \n",
    "m.total_cost = en.Objective(rule=Obj_fn, sense=en.minimize)"
   ]
  },
  {
   "cell_type": "code",
   "execution_count": 157,
   "metadata": {},
   "outputs": [],
   "source": [
    "# Set the path to the solver\n",
    "# Specify your own path to cplex or any other solver\n",
    "opt = SolverFactory(\"cplex\", executable=\"C:/Program Files/IBM/ILOG/CPLEX_Studio128/cplex/bin/x64_win64/cplex\")"
   ]
  },
  {
   "cell_type": "code",
   "execution_count": 158,
   "metadata": {},
   "outputs": [],
   "source": [
    "results = opt.solve(m)"
   ]
  },
  {
   "cell_type": "code",
   "execution_count": 159,
   "metadata": {},
   "outputs": [
    {
     "name": "stdout",
     "output_type": "stream",
     "text": [
      "\n",
      "Problem: \n",
      "- Name: tmptbnu7hpq\n",
      "  Lower bound: 1483850.3767\n",
      "  Upper bound: 1483991.2346239286\n",
      "  Number of objectives: 1\n",
      "  Number of constraints: 543126\n",
      "  Number of variables: 245289\n",
      "  Number of nonzeros: 1116634\n",
      "  Sense: minimize\n",
      "Solver: \n",
      "- Status: ok\n",
      "  User time: 2135.13\n",
      "  Termination condition: optimal\n",
      "  Termination message: MIP - Integer optimal, tolerance (0.0001/1e-06)\\x3a Objective = 1.4839912346e+06\n",
      "  Statistics: \n",
      "    Branch and bound: \n",
      "      Number of bounded subproblems: 11744\n",
      "      Number of created subproblems: 11744\n",
      "  Error rc: 0\n",
      "  Time: 2139.3299703598022\n",
      "Solution: \n",
      "- number of solutions: 0\n",
      "  number of solutions displayed: 0\n",
      "\n"
     ]
    }
   ],
   "source": [
    "print(results)"
   ]
  },
  {
   "cell_type": "code",
   "execution_count": 160,
   "metadata": {},
   "outputs": [],
   "source": [
    "P_sell = np.zeros((len(sellPrice),1))\n",
    "for i in m.Time:\n",
    "    P_sell[i] = en.value(m.P_sell[i])"
   ]
  },
  {
   "cell_type": "code",
   "execution_count": 161,
   "metadata": {},
   "outputs": [],
   "source": [
    "P_buy = np.zeros((len(sellPrice),1))\n",
    "for i in m.Time:\n",
    "    P_buy[i] = en.value(m.P_buy[i])"
   ]
  },
  {
   "cell_type": "code",
   "execution_count": 162,
   "metadata": {},
   "outputs": [],
   "source": [
    "P_PV = np.zeros((len(sellPrice),1))\n",
    "for i in m.Time:\n",
    "    P_PV[i] = en.value(m.P_PV[i])"
   ]
  },
  {
   "cell_type": "code",
   "execution_count": 163,
   "metadata": {},
   "outputs": [
    {
     "name": "stdout",
     "output_type": "stream",
     "text": [
      "7239.0\n"
     ]
    }
   ],
   "source": [
    "# The number of PV configured in the microgrid\n",
    "n_PV = en.value(m.n_PV[1])\n",
    "print(n_PV)"
   ]
  },
  {
   "cell_type": "code",
   "execution_count": 164,
   "metadata": {},
   "outputs": [
    {
     "name": "stdout",
     "output_type": "stream",
     "text": [
      "8.0\n"
     ]
    }
   ],
   "source": [
    "# The number of HP configured in the microgrid\n",
    "n_HP = en.value(m.n_HP[1])\n",
    "print(n_HP)"
   ]
  },
  {
   "cell_type": "code",
   "execution_count": 165,
   "metadata": {},
   "outputs": [
    {
     "name": "stdout",
     "output_type": "stream",
     "text": [
      "7.0\n"
     ]
    }
   ],
   "source": [
    "# The number of GT configured in the microgrid\n",
    "n_GT = en.value(m.n_GT[1])\n",
    "print(n_GT)"
   ]
  },
  {
   "cell_type": "code",
   "execution_count": 166,
   "metadata": {},
   "outputs": [
    {
     "name": "stdout",
     "output_type": "stream",
     "text": [
      "3.0\n"
     ]
    }
   ],
   "source": [
    "# The number of CHP configured in the microgrid\n",
    "n_CHP = en.value(m.n_CHP[1])\n",
    "print(n_CHP)"
   ]
  },
  {
   "cell_type": "code",
   "execution_count": 167,
   "metadata": {},
   "outputs": [
    {
     "name": "stdout",
     "output_type": "stream",
     "text": [
      "0.9999999999972428\n"
     ]
    }
   ],
   "source": [
    "# The number of EC configured in the microgrid\n",
    "n_EC = en.value(m.n_EC[1])\n",
    "print(n_EC)"
   ]
  },
  {
   "cell_type": "code",
   "execution_count": 168,
   "metadata": {},
   "outputs": [
    {
     "name": "stdout",
     "output_type": "stream",
     "text": [
      "4.0\n"
     ]
    }
   ],
   "source": [
    "# The number of AC configured in the microgrid\n",
    "n_AC = en.value(m.n_AC[1])\n",
    "print(n_AC)"
   ]
  },
  {
   "cell_type": "code",
   "execution_count": 169,
   "metadata": {},
   "outputs": [
    {
     "name": "stdout",
     "output_type": "stream",
     "text": [
      "0.0\n"
     ]
    }
   ],
   "source": [
    "# The number of ESS configured in the microgrid\n",
    "n_ESS = en.value(m.n_ESS[1])\n",
    "print(n_ESS)"
   ]
  },
  {
   "cell_type": "code",
   "execution_count": 170,
   "metadata": {},
   "outputs": [
    {
     "name": "stdout",
     "output_type": "stream",
     "text": [
      "52.0\n"
     ]
    }
   ],
   "source": [
    "# The number of TSS configured in the microgrid\n",
    "n_TSS = en.value(m.n_TSS[1])\n",
    "print(n_TSS)"
   ]
  },
  {
   "cell_type": "code",
   "execution_count": 171,
   "metadata": {},
   "outputs": [],
   "source": [
    "# Output other optimization variables\n",
    "Q_AC = np.zeros((len(sellPrice),1))\n",
    "for i in m.Time:\n",
    "    Q_AC[i] = en.value(m.Q_AC[i])\n",
    "    \n",
    "P_GT = np.zeros((len(sellPrice),1))\n",
    "for i in m.Time:\n",
    "    P_GT[i] = en.value(m.P_GT[i])\n",
    "    \n",
    "P_CHP = np.zeros((len(sellPrice),1))\n",
    "for i in m.Time:\n",
    "    P_CHP[i] = en.value(m.P_CHP[i])\n",
    "    \n",
    "Q_CHP = np.zeros((len(sellPrice),1))\n",
    "for i in m.Time:\n",
    "    Q_CHP[i] = en.value(m.Q_CHP[i])\n",
    "    \n",
    "P_HP = np.zeros((len(sellPrice),1))\n",
    "for i in m.Time:\n",
    "    P_HP[i] = en.value(m.P_HP[i])\n",
    "    \n",
    "P_EC = np.zeros((len(sellPrice),1))\n",
    "for i in m.Time:\n",
    "    P_EC[i] = en.value(m.P_EC[i])\n",
    "    \n",
    "TSS_P_dis = np.zeros((len(sellPrice),1))\n",
    "for i in m.Time:\n",
    "    TSS_P_dis[i] = en.value(m.TSS_P_dis[i])\n",
    "    \n",
    "TSS_P_char = np.zeros((len(sellPrice),1))\n",
    "for i in m.Time:\n",
    "    TSS_P_char[i] = en.value(m.TSS_P_char[i])\n",
    "    \n",
    "P_buy = np.zeros((len(sellPrice),1))\n",
    "for i in m.Time:\n",
    "    P_buy[i] = en.value(m.P_buy[i])\n",
    "    \n",
    "Q_EC = P_EC*4\n",
    "Q_HP = P_HP*2"
   ]
  },
  {
   "cell_type": "code",
   "execution_count": 182,
   "metadata": {},
   "outputs": [
    {
     "name": "stdout",
     "output_type": "stream",
     "text": [
      "[170494.58917108]\n"
     ]
    }
   ],
   "source": [
    "# Output the cost of purchasing and selling electricity\n",
    "C_grid = sum( (buyPrice[i]*P_buy[i]) - (sellPrice[i]*P_sell[i]) for i in range(8760) )\n",
    "C_grid_heating1 = sum( (buyPrice[i]*P_buy[i]) - (sellPrice[i]*P_sell[i]) for i in range(0,3624) ) \n",
    "C_grid_heating2 = sum( (buyPrice[i]*P_buy[i]) - (sellPrice[i]*P_sell[i]) for i in range(6552,8760) ) \n",
    "C_grid_heating = C_grid_heating1 + C_grid_heating2\n",
    "C_grid_cooling = sum( (buyPrice[i]*P_buy[i]) - (sellPrice[i]*P_sell[i]) for i in range(3624,6552) ) \n",
    "print(C_grid)"
   ]
  },
  {
   "cell_type": "code",
   "execution_count": 183,
   "metadata": {},
   "outputs": [
    {
     "name": "stdout",
     "output_type": "stream",
     "text": [
      "[118644.0104409]\n"
     ]
    }
   ],
   "source": [
    "# Table 8, Electricity Period I \n",
    "print(C_grid_heating)"
   ]
  },
  {
   "cell_type": "code",
   "execution_count": 184,
   "metadata": {},
   "outputs": [
    {
     "name": "stdout",
     "output_type": "stream",
     "text": [
      "[51850.57873018]\n"
     ]
    }
   ],
   "source": [
    "# Table 8, Electricity Period II\n",
    "print(C_grid_cooling)"
   ]
  },
  {
   "cell_type": "code",
   "execution_count": 185,
   "metadata": {},
   "outputs": [
    {
     "name": "stdout",
     "output_type": "stream",
     "text": [
      "484073.26530767925\n"
     ]
    }
   ],
   "source": [
    "# Output investment cost\n",
    "C_inv = R25*198*n_PV + R25*70572*n_HP + R25*203808*n_GT + R25*505766*n_CHP + R25*36438*n_EC + R25*27483*n_AC + R10*444*n_ESS + R20*1400*n_TSS        \n",
    "print(C_inv)"
   ]
  },
  {
   "cell_type": "code",
   "execution_count": 186,
   "metadata": {},
   "outputs": [
    {
     "name": "stdout",
     "output_type": "stream",
     "text": [
      "[641265.24289371]\n"
     ]
    }
   ],
   "source": [
    "# Output the cost of purchasing gas\n",
    "Vgas_GT = np.zeros((len(sellPrice),1))\n",
    "for i in m.Time:\n",
    "    Vgas_GT[i] = en.value(m.Vgas_GT[i])\n",
    "    \n",
    "Vgas_CHP = np.zeros((len(sellPrice),1))\n",
    "for i in m.Time:\n",
    "    Vgas_CHP[i] = en.value(m.Vgas_CHP[i])\n",
    "\n",
    "C_gas = sum( (price_gas[i]*(Vgas_GT[i]+Vgas_CHP[i])) for i in range(8760))\n",
    "C_gas_heating1 = sum( (price_gas[i]*(Vgas_GT[i]+Vgas_CHP[i])) for i in range(0,3624))\n",
    "C_gas_heating2 = sum( (price_gas[i]*(Vgas_GT[i]+Vgas_CHP[i])) for i in range(6552,8760))\n",
    "C_gas_heating = C_gas_heating1 + C_gas_heating2\n",
    "C_gas_cooling = sum( (price_gas[i]*(Vgas_GT[i]+Vgas_CHP[i])) for i in range(3624,6552)) \n",
    "\n",
    "print(C_gas)"
   ]
  },
  {
   "cell_type": "code",
   "execution_count": 187,
   "metadata": {},
   "outputs": [
    {
     "name": "stdout",
     "output_type": "stream",
     "text": [
      "[531076.71774078]\n"
     ]
    }
   ],
   "source": [
    "# Table 8, Gas Period I \n",
    "print(C_gas_heating)"
   ]
  },
  {
   "cell_type": "code",
   "execution_count": 188,
   "metadata": {},
   "outputs": [
    {
     "name": "stdout",
     "output_type": "stream",
     "text": [
      "[110188.52515294]\n"
     ]
    }
   ],
   "source": [
    "# Table 8, Gas Period II \n",
    "print(C_gas_cooling)"
   ]
  },
  {
   "cell_type": "code",
   "execution_count": 189,
   "metadata": {},
   "outputs": [
    {
     "name": "stdout",
     "output_type": "stream",
     "text": [
      "154830.65999999698\n"
     ]
    }
   ],
   "source": [
    "# Output Maintenance cost\n",
    "C_maintain = 0.03*198*n_PV + 0.03*70572*n_HP + 0.03*203808*n_GT + 0.03*505766*n_CHP + 0.03*36438*n_EC + 0.03*27483*n_AC + 0.03*444*n_ESS + 0.03*1400*n_TSS    \n",
    "print(C_maintain)"
   ]
  },
  {
   "cell_type": "code",
   "execution_count": 190,
   "metadata": {},
   "outputs": [
    {
     "name": "stdout",
     "output_type": "stream",
     "text": [
      "[33327.4772515]\n"
     ]
    }
   ],
   "source": [
    "# Output CO2 emission penalizes the cost\n",
    "# Note that the carbon emission penalty multiplier should be consistent with the objective function\n",
    "C_emission = sum( (multiplier*5*0.00089*P_buy[i]) + (multiplier*5*0.0001862*9.97*(Vgas_GT[i]+Vgas_CHP[i])) for i in range(8760))\n",
    "C_emission_heating1=sum( (multiplier*5*0.00089*P_buy[i])+(multiplier*5*0.0001862*9.97*(Vgas_GT[i]+Vgas_CHP[i])) for i in range(0,3624))\n",
    "C_emission_heating2=sum( (multiplier*5*0.00089*P_buy[i])+(multiplier*5*0.0001862*9.97*(Vgas_GT[i]+Vgas_CHP[i])) for i in range(6552,8760))\n",
    "C_emission_heating = C_emission_heating1 + C_emission_heating2\n",
    "C_emission_cooling = sum( (multiplier*5*0.00089*P_buy[i]) + (multiplier*5*0.0001862*9.97*(Vgas_GT[i]+Vgas_CHP[i])) for i in range(3625,6552))\n",
    "print(C_emission)"
   ]
  },
  {
   "cell_type": "code",
   "execution_count": 194,
   "metadata": {},
   "outputs": [
    {
     "name": "stdout",
     "output_type": "stream",
     "text": [
      "[26110.38620931]\n"
     ]
    }
   ],
   "source": [
    "# Table 8, Emission Period I \n",
    "print(C_emission_heating)"
   ]
  },
  {
   "cell_type": "code",
   "execution_count": 195,
   "metadata": {},
   "outputs": [
    {
     "name": "stdout",
     "output_type": "stream",
     "text": [
      "[7214.57958065]\n"
     ]
    }
   ],
   "source": [
    "# Table 8, Emission Period II \n",
    "print(C_emission_cooling)"
   ]
  },
  {
   "cell_type": "code",
   "execution_count": 196,
   "metadata": {},
   "outputs": [
    {
     "name": "stdout",
     "output_type": "stream",
     "text": [
      "[1483991.23462396]\n"
     ]
    }
   ],
   "source": [
    "# Output annualized total cost\n",
    "C_total = C_emission + C_maintain + C_gas + C_inv + C_grid\n",
    "print(C_total)"
   ]
  },
  {
   "cell_type": "code",
   "execution_count": null,
   "metadata": {},
   "outputs": [],
   "source": []
  },
  {
   "cell_type": "code",
   "execution_count": null,
   "metadata": {},
   "outputs": [],
   "source": []
  },
  {
   "cell_type": "code",
   "execution_count": null,
   "metadata": {},
   "outputs": [],
   "source": []
  },
  {
   "cell_type": "code",
   "execution_count": null,
   "metadata": {},
   "outputs": [],
   "source": []
  },
  {
   "cell_type": "code",
   "execution_count": null,
   "metadata": {},
   "outputs": [],
   "source": []
  },
  {
   "cell_type": "code",
   "execution_count": null,
   "metadata": {},
   "outputs": [],
   "source": []
  },
  {
   "cell_type": "code",
   "execution_count": null,
   "metadata": {},
   "outputs": [],
   "source": []
  },
  {
   "cell_type": "code",
   "execution_count": null,
   "metadata": {},
   "outputs": [],
   "source": []
  },
  {
   "cell_type": "code",
   "execution_count": null,
   "metadata": {},
   "outputs": [],
   "source": []
  }
 ],
 "metadata": {
  "kernelspec": {
   "display_name": "Python 3",
   "language": "python",
   "name": "python3"
  },
  "language_info": {
   "codemirror_mode": {
    "name": "ipython",
    "version": 3
   },
   "file_extension": ".py",
   "mimetype": "text/x-python",
   "name": "python",
   "nbconvert_exporter": "python",
   "pygments_lexer": "ipython3",
   "version": "3.8.5"
  }
 },
 "nbformat": 4,
 "nbformat_minor": 5
}
